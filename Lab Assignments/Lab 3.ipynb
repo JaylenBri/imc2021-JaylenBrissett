{
 "cells": [
  {
   "cell_type": "code",
   "execution_count": 1,
   "metadata": {},
   "outputs": [],
   "source": [
    "import numpy as np\n",
    "import matplotlib.pylab as plt\n",
    "import librosa.display\n",
    "import IPython.display\n",
    "import librosa"
   ]
  },
  {
   "cell_type": "code",
   "execution_count": 2,
   "metadata": {},
   "outputs": [],
   "source": [
    "def plotAudio3(sig,sampleRate,title):\n",
    "    \n",
    "    # this version expects the audio file to have already been opened by librosa\n",
    "    \n",
    "    # Adjust the x-axis to represent time\n",
    "    time=np.arange(0,sig.shape[0])/sr\n",
    "    \n",
    "    # Scale the y-axis to represent amplitude from -1 to 1\n",
    "    excursion=max(abs(sig))\n",
    "    sigNew = sig / excursion\n",
    "    \n",
    "    # Label the x and y axes with variables\n",
    "    xlabel = 'Time (seconds)'\n",
    "    ylabel = 'Amplitude'\n",
    "\n",
    "    # Plot the signal using the x and y axis variables    \n",
    "    plt.plot(time,sigNew)\n",
    "    plt.xlabel(xlabel)\n",
    "    plt.ylabel(ylabel)\n",
    "    plt.title(title)\n",
    "    plt.show()"
   ]
  },
  {
   "cell_type": "code",
   "execution_count": 3,
   "metadata": {},
   "outputs": [],
   "source": [
    "def plotAudioFreqDomain(sig,sr,'Ave Maria',winSize,'linear'):\n",
    "    spec = librosa.amplitude_to_db(np.abs(librosa.stft(sig)), ref=np.max)  \n",
    "    "
   ]
  },
  {
   "cell_type": "code",
   "execution_count": null,
   "metadata": {},
   "outputs": [],
   "source": [
    "def  plotAudioFunc(sig,sr,'Ave Maria',winSize,'linear') "
   ]
  }
 ],
 "metadata": {
  "kernelspec": {
   "display_name": "Python 3",
   "language": "python",
   "name": "python3"
  },
  "language_info": {
   "codemirror_mode": {
    "name": "ipython",
    "version": 3
   },
   "file_extension": ".py",
   "mimetype": "text/x-python",
   "name": "python",
   "nbconvert_exporter": "python",
   "pygments_lexer": "ipython3",
   "version": "3.8.5"
  }
 },
 "nbformat": 4,
 "nbformat_minor": 4
}
