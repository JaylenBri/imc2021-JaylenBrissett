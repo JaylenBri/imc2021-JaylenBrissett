{
 "cells": [
  {
   "cell_type": "code",
   "execution_count": 1,
   "metadata": {},
   "outputs": [],
   "source": [
    "import numpy as np\n",
    "import matplotlib.pylab as plt\n",
    "import librosa.display\n",
    "import IPython.display\n",
    "import librosa"
   ]
  },
  {
   "cell_type": "code",
   "execution_count": 2,
   "metadata": {},
   "outputs": [],
   "source": [
    "def plotAudio3(sig,sampleRate,title):\n",
    "    \n",
    "    # this version expects the audio file to have already been opened by librosa\n",
    "    \n",
    "    # Adjust the x-axis to represent time\n",
    "    time=np.arange(0,sig.shape[0])/sr\n",
    "    \n",
    "    # Scale the y-axis to represent amplitude from -1 to 1\n",
    "    excursion=max(abs(sig))\n",
    "    sigNew = sig / excursion\n",
    "    \n",
    "    # Label the x and y axes with variables\n",
    "    xlabel = 'Time (seconds)'\n",
    "    ylabel = 'Amplitude'\n",
    "\n",
    "    # Plot the signal using the x and y axis variables    \n",
    "    plt.plot(time,sigNew)\n",
    "    plt.xlabel(xlabel)\n",
    "    plt.ylabel(ylabel)\n",
    "    plt.title(title)\n",
    "    plt.show()"
   ]
  },
  {
   "cell_type": "code",
   "execution_count": 3,
   "metadata": {},
   "outputs": [],
   "source": [
    "def plotAudioFreqDomain(sig,sr,title,winSize,specType):\n",
    "    spec = librosa.amplitude_to_db(np.abs(librosa.stft(sig)), ref=np.max)  "
   ]
  },
  {
   "cell_type": "code",
   "execution_count": 4,
   "metadata": {},
   "outputs": [],
   "source": [
    "def additiveSynthesis(samplingRate,frequency,numHarmonics,seqHarm,ampExponent):\n",
    "\n",
    "    # generate list of harmonics\n",
    "    harmonics = np.arange(1,numHarmonics+1,seqHarm)\n",
    "    \n",
    "    # create a time series from 0 to 1 the inputted length    \n",
    "    timeSeries = np.linspace(0, 1, samplingRate)\n",
    "    \n",
    "    # create a cosine wave for the fundamental    \n",
    "    signal = np.cos(2.0 * np.pi * frequency * timeSeries)\n",
    "\n",
    "    # add harmonics based on the those specified in the variable 'harmonics'\n",
    "    for harm in harmonics:\n",
    "        signal = signal + np.cos(2.0 * np.pi * frequency * harm * timeSeries)/harm**ampExponent     \n",
    "    \n",
    "    # scale the signal to between -1 and 1\n",
    "    excursion=max(abs(signal))\n",
    "    signal = signal / excursion\n",
    "    \n",
    "    # plot signal\n",
    "    plt.plot(timeSeries,signal)\n",
    "    plt.xlabel('Time (Sec)')\n",
    "    plt.ylabel('Amplitude')\n",
    "    plt.title('Additive Synthesis')\n",
    "    plt.plot\n",
    "        \n",
    "    return signal"
   ]
  },
  {
   "cell_type": "code",
   "execution_count": 5,
   "metadata": {},
   "outputs": [
    {
     "ename": "IndentationError",
     "evalue": "expected an indented block (<ipython-input-5-db0eb2045e6b>, line 3)",
     "output_type": "error",
     "traceback": [
      "\u001b[0;36m  File \u001b[0;32m\"<ipython-input-5-db0eb2045e6b>\"\u001b[0;36m, line \u001b[0;32m3\u001b[0m\n\u001b[0;31m    seqHarm = 1\u001b[0m\n\u001b[0m    ^\u001b[0m\n\u001b[0;31mIndentationError\u001b[0m\u001b[0;31m:\u001b[0m expected an indented block\n"
     ]
    }
   ],
   "source": [
    "def  makeWaveforms (samplingRate, frequency, numHarmonics, waveType):\n",
    "     if waveType == 'sawtooth':\n",
    "     seqHarm = 1\n",
    "     ampExponent = 1\n",
    "     elif waveType == 'square': \n",
    "     seqHarm = 2\n",
    "     ampExponent = 1\n",
    "     elif waveType == 'triangle':\n",
    "     seqHarm = 2\n",
    "     ampExponent = 2\n",
    "     else: \n",
    "     numHarmonics = 1\n",
    "     seqHarm = 1\n",
    "     ampExponent = 1\n",
    "     signal = additiveSynthesis(samplingRate,frequency,numHarmonics,seqHarm,ampExponent\n",
    "     return  generated waveform "
   ]
  },
  {
   "cell_type": "code",
   "execution_count": null,
   "metadata": {},
   "outputs": [],
   "source": [
    "def visualizeWaveforms(samplingRate, frequency, numHarmonics, waveType, winSize, specType)\n",
    "     makeWaveforms (samplingRate, frequency, numHarmonics, waveType)\n",
    "     "
   ]
  }
 ],
 "metadata": {
  "kernelspec": {
   "display_name": "Python 3",
   "language": "python",
   "name": "python3"
  },
  "language_info": {
   "codemirror_mode": {
    "name": "ipython",
    "version": 3
   },
   "file_extension": ".py",
   "mimetype": "text/x-python",
   "name": "python",
   "nbconvert_exporter": "python",
   "pygments_lexer": "ipython3",
   "version": "3.8.5"
  }
 },
 "nbformat": 4,
 "nbformat_minor": 4
}
