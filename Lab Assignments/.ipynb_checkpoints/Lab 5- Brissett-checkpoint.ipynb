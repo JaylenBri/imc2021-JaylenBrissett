{
 "cells": [
  {
   "cell_type": "code",
   "execution_count": 1,
   "metadata": {},
   "outputs": [],
   "source": [
    "import numpy as np\n",
    "import matplotlib.pyplot as plt\n",
    "import librosa\n",
    "import librosa.display\n",
    "import IPython.display\n",
    "import scipy.signal as sg"
   ]
  },
  {
   "cell_type": "code",
   "execution_count": 2,
   "metadata": {},
   "outputs": [],
   "source": [
    "def plotTimeFreq(sig,sr,title,winSize,specType,fig):\n",
    "\n",
    "    # Adjust the x-axis to represent time\n",
    "    time=np.arange(0,sig.shape[0])/sr\n",
    "    \n",
    "    # Scale the y-axis to represent amplitude from -1 to 1\n",
    "    excursion=max(abs(sig))\n",
    "    sigNew = sig / excursion\n",
    "    \n",
    "    # Label the x and y axes with variables\n",
    "    xlabel = 'Time (seconds)'\n",
    "    ylabel = 'Amplitude'\n",
    "\n",
    "    # Create a new figure (using the figure number passed in as an argument)\n",
    "    plt.figure(fig)\n",
    "    \n",
    "    # Create the first subplot\n",
    "    plt.subplot(2,1,1)\n",
    "    \n",
    "    # Plot the time-domain representation of the inputted audio signal  \n",
    "    plt.plot(time,sigNew)\n",
    "    plt.xlabel(xlabel)\n",
    "    plt.ylabel(ylabel)\n",
    "    plt.title(title)\n",
    "    \n",
    "    # Create the second subplot\n",
    "    plt.subplot(2,1,2)\n",
    "    \n",
    "    # Plot the frequency-domain representatio of the inputted audio signal\n",
    "    spec = librosa.amplitude_to_db(np.abs(librosa.stft(sig,n_fft=winSize)), ref=np.max)\n",
    "    librosa.display.specshow(spec, y_axis=specType)\n",
    "    plt.colorbar(format='%+2.0f dB')\n",
    "    plt.title(title)\n",
    "    plt.show"
   ]
  },
  {
   "cell_type": "code",
   "execution_count": 3,
   "metadata": {},
   "outputs": [],
   "source": [
    "def  filterSignal(sig,sr,freq,filtType,order,winSize,specType,fig):\n",
    "    if filtType == \"low\" or filtType == \"high\":\n",
    "        filterFreq = freq / (sr / 2)\n",
    "        \n",
    "    elif filtType == \"bandpass\" or filtType == \"bandstop\":\n",
    "        filterFreq = [freq[0] / (sr / 2), freq[1] / (sr / 2)]\n",
    "    b, a = sg.butter(order, filterFreq, filtType)\n",
    "    \n",
    "    \n",
    "    signal = sg.filtfilt(b, a, sig)\n",
    "\n",
    "    plotTimeFreq(sig,sr,title,winSize,specType,fig)\n",
    "    \n",
    "    return signal"
   ]
  },
  {
   "cell_type": "code",
   "execution_count": null,
   "metadata": {},
   "outputs": [],
   "source": [
    "def  allFilters(sig,sr,freq,width,order,winSize,specType)\n",
    "    sig_lp= filterSignal(sig,sr,freq,\"low\",order,winSize,specType,1)\n",
    "    sig_hp= filterSignal(sig,sr,freq,\"high\",order,winSize,specType,2)\n",
    "    sig_bp= filterSignal(sig,sr,[freq-width,freq+width],\"bandpass\",order,winSize,specType,3)  \n",
    "    sig_bs= filterSignal(sig,sr,[freq-width,freq+width],\"bandstop\",order,winSize,specType,4)\n",
    "    return sig_lp,sig_hp,sig_bp,sig_bs "
   ]
  }
 ],
 "metadata": {
  "kernelspec": {
   "display_name": "Python 3",
   "language": "python",
   "name": "python3"
  },
  "language_info": {
   "codemirror_mode": {
    "name": "ipython",
    "version": 3
   },
   "file_extension": ".py",
   "mimetype": "text/x-python",
   "name": "python",
   "nbconvert_exporter": "python",
   "pygments_lexer": "ipython3",
   "version": "3.8.5"
  }
 },
 "nbformat": 4,
 "nbformat_minor": 4
}
